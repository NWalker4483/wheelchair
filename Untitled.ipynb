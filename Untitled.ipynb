{
 "cells": [
  {
   "cell_type": "code",
   "execution_count": 13,
   "metadata": {},
   "outputs": [
    {
     "name": "stdout",
     "output_type": "stream",
     "text": [
      "[1, 2, 4]\n"
     ]
    }
   ],
   "source": [
    "from tf import Pose\n",
    "import json\n",
    "\n",
    "class QrMap():\n",
    "    def __init__(self):\n",
    "        self.__connections = {\n",
    "            # [top, bottom, left, right]\n",
    "            1: [2,0,0,0], \n",
    "            2: [3,0,1,4], \n",
    "            3: [0,2,0,0], \n",
    "            4: [0,0,2,0]\n",
    "        }\n",
    "        \n",
    "    def get_plan(self, start: int, stop: int):\n",
    "        visited = set() # List to keep track of visited nodes.\n",
    "        unvisited = set(self.__connections.keys()) # List to keep track of unvisited nodes.\n",
    "        best = {start: start}\n",
    "        cost = {start: 0}\n",
    "        plan = []\n",
    "        \n",
    "        while len(unvisited) > 0:\n",
    "            curr = min(unvisited, key = lambda x : best[x] if x in best else 10e15)\n",
    "            if curr == stop:\n",
    "                while curr != start:\n",
    "                    plan.append(curr)\n",
    "                    curr = best[curr]\n",
    "                plan.append(start)\n",
    "                break\n",
    "            for neighbour in self.__connections[curr]:\n",
    "                if neighbour > 0:\n",
    "                  if neighbour not in visited:\n",
    "                    cost[neighbour] = cost[curr] + 1\n",
    "                    best[neighbour] = curr\n",
    "                  elif cost[curr] + 1 < cost[neighbour]:\n",
    "                    cost[neighbour] = cost[curr] + 1\n",
    "                    best[neighbour] = curr\n",
    "                    \n",
    "            unvisited.remove(curr)\n",
    "            visited.add(curr)\n",
    "        return plan[::-1]\n",
    "\n",
    "    @staticmethod\n",
    "    def load(filename):\n",
    "        pass\n",
    "\n",
    "a = QrMap()\n",
    "print(a.get_plan(1,4))"
   ]
  },
  {
   "cell_type": "code",
   "execution_count": null,
   "metadata": {},
   "outputs": [],
   "source": []
  },
  {
   "cell_type": "code",
   "execution_count": 8,
   "metadata": {},
   "outputs": [
    {
     "data": {
      "text/plain": [
       "{1: X: 400, Y: 200, ROT: 0,\n",
       " 2: X: 500, Y: 100, ROT: 90,\n",
       " 3: X: 400, Y: 100, ROT: 180,\n",
       " 4: X: 100, Y: 100, ROT: 0}"
      ]
     },
     "execution_count": 8,
     "metadata": {},
     "output_type": "execute_result"
    }
   ],
   "source": [
    "loc_dict"
   ]
  },
  {
   "cell_type": "code",
   "execution_count": 12,
   "metadata": {},
   "outputs": [
    {
     "data": {
      "text/plain": [
       "{'1': [2], '2': [1, 3, 4], '3': [2], '4': [2]}"
      ]
     },
     "execution_count": 12,
     "metadata": {},
     "output_type": "execute_result"
    }
   ],
   "source": [
    "cnct_dict"
   ]
  },
  {
   "cell_type": "code",
   "execution_count": 4,
   "metadata": {},
   "outputs": [],
   "source": [
    "def get_plan(start, stop):\n",
    "    pass"
   ]
  },
  {
   "cell_type": "code",
   "execution_count": 6,
   "metadata": {},
   "outputs": [
    {
     "data": {
      "text/plain": [
       "<dijkstra.graph.Graph at 0x7fe3e32cd430>"
      ]
     },
     "execution_count": 6,
     "metadata": {},
     "output_type": "execute_result"
    }
   ],
   "source": []
  },
  {
   "cell_type": "code",
   "execution_count": null,
   "metadata": {},
   "outputs": [],
   "source": []
  }
 ],
 "metadata": {
  "kernelspec": {
   "display_name": "Python 3",
   "language": "python",
   "name": "python3"
  },
  "language_info": {
   "codemirror_mode": {
    "name": "ipython",
    "version": 3
   },
   "file_extension": ".py",
   "mimetype": "text/x-python",
   "name": "python",
   "nbconvert_exporter": "python",
   "pygments_lexer": "ipython3",
   "version": "3.8.3"
  }
 },
 "nbformat": 4,
 "nbformat_minor": 4
}
